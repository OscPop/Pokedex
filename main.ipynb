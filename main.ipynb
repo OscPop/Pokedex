{
 "cells": [
  {
   "cell_type": "code",
   "execution_count": 5,
   "metadata": {},
   "outputs": [],
   "source": [
    "from bs4 import BeautifulSoup as BS\n",
    "import requests\n",
    "import pandas as pd\n",
    "import numpy as np\n",
    "import matplotlib.pyplot as plt\n",
    "import seaborn as sns"
   ]
  },
  {
   "cell_type": "code",
   "execution_count": 60,
   "metadata": {},
   "outputs": [
    {
     "name": "stdout",
     "output_type": "stream",
     "text": [
      "<!DOCTYPE html>\n",
      "<html lang=\"en\">\n",
      " <head>\n",
      "  <meta charset=\"utf-8\"/>\n",
      "  <title>\n",
      "   Pokémon Pokédex: list of Pokémon with stats | Pokémon Database\n",
      "  </title>\n",
      "  <link href=\"https://img.pokemondb.net\" rel=\"preconnect\"/>\n",
      "  <link href=\"https://s.pokemondb.net\" rel=\"preconnect\"/>\n",
      "  <style>\n",
      "   @font-face{font-family:\"Fira Sans\";font-style:normal;font-weight:400;font-display:swap;src:url(\"/static/fonts/fira-sans-v10-latin-400.woff2\") format(\"woff2\");unicode-range:U+0000-00FF,U+0131,U+0152-0153,U+02BB-02BC,U+02C6,U+02DA,U+02DC,U+2000-206F,U+2074,U+20AC,U+2122,U+2191,U+2193,U+2212,U+2215,U+FEFF,U+FFFD}@font-face{font-family:\"Fira Sans\";font-style:italic;font-weight:400;font-display:swap;src:url(\"/static/fonts/fira-sans-v10-latin-400i.woff2\") format(\"woff2\");unicode-range:U+0000-00FF,U+0131,U+0152-0153,U+02BB-02BC,U+02C6,U+02DA,U+02DC,U+2000-206F,U+2074,U+20AC,U+2122,U+2191,U+2193,U+2212,U+2215,U+FEFF,U+FFFD}@font-face{font-family:\"Fira Sans\";font-style:normal;font-weight:700;font-display:swap;src:u\n"
     ]
    }
   ],
   "source": [
    "URL = \"https://pokemondb.net/pokedex/all\"\n",
    "\n",
    "# Get soup of the page from the URL\n",
    "\n",
    "def get_soup(url):\n",
    "    page = requests.get(url)\n",
    "    return BS(page.content, 'html.parser')\n",
    "\n",
    "soup = get_soup(URL)\n",
    "print(soup.prettify()[0:1000])"
   ]
  },
  {
   "attachments": {},
   "cell_type": "markdown",
   "metadata": {},
   "source": [
    "# Idea\n",
    "The main idea is to copy the contents of the table by scraping the information. The table and information is nicely formatted and it shouldn't be difficult to extract the information."
   ]
  },
  {
   "cell_type": "markdown",
   "metadata": {},
   "source": [
    "## Table head"
   ]
  },
  {
   "cell_type": "code",
   "execution_count": 19,
   "metadata": {},
   "outputs": [
    {
     "name": "stdout",
     "output_type": "stream",
     "text": [
      "#\n",
      "Name\n",
      "Total\n",
      "HP\n",
      "Attack\n",
      "Defense\n",
      "Sp. Atk\n",
      "Sp. Def\n",
      "Speed\n",
      "['#', 'Name', 'Total', 'HP', 'Attack', 'Defense', 'Sp. Atk', 'Sp. Def', 'Speed']\n"
     ]
    }
   ],
   "source": [
    "# Find the header of the table in the soup\n",
    "table_head = soup.find(\"thead\").find_all(\"th\", class_=\"sorting\")\n",
    "stats = []\n",
    "for col in table_head:\n",
    "    print(col.text)\n",
    "    stat = col.text\n",
    "    stats.append(stat)\n",
    "\n",
    "print(stats)"
   ]
  },
  {
   "attachments": {},
   "cell_type": "markdown",
   "metadata": {},
   "source": [
    "# Table rows\n",
    "Now we want to extract all the information for each pokemon (row) in the table."
   ]
  },
  {
   "cell_type": "code",
   "execution_count": 50,
   "metadata": {},
   "outputs": [
    {
     "name": "stdout",
     "output_type": "stream",
     "text": [
      "<tr>\n",
      "<td class=\"cell-num cell-fixed\" data-sort-value=\"1\"><span class=\"infocard-cell-img\"><img alt=\"Bulbasaur\" class=\"img-fixed icon-pkmn\" height=\"42\" loading=\"lazy\" src=\"https://img.pokemondb.net/sprites/sword-shield/icon/bulbasaur.png\" width=\"56\"/></span><span class=\"infocard-cell-data\">0001</span></td> <td class=\"cell-name\"><a class=\"ent-name\" href=\"/pokedex/bulbasaur\" title=\"View Pokedex for #0001 Bulbasaur\">Bulbasaur</a></td><td class=\"cell-icon\"><a class=\"type-icon type-grass\" href=\"/type/grass\">Grass</a><br/> <a class=\"type-icon type-poison\" href=\"/type/poison\">Poison</a></td>\n",
      "<td class=\"cell-num cell-total\">318</td>\n",
      "<td class=\"cell-num\">45</td>\n",
      "<td class=\"cell-num\">49</td>\n",
      "<td class=\"cell-num\">49</td>\n",
      "<td class=\"cell-num\">65</td>\n",
      "<td class=\"cell-num\">65</td>\n",
      "<td class=\"cell-num\">45</td>\n",
      "</tr>\n"
     ]
    }
   ],
   "source": [
    "\n",
    "table_body = soup.find(\"tbody\")\n",
    "rows = table_body.find_all(\"tr\")\n",
    "print(rows[0])\n"
   ]
  },
  {
   "attachments": {},
   "cell_type": "markdown",
   "metadata": {},
   "source": [
    "## What does the above output tell us? \n",
    "By looking at the screenshot below, it seems like the first `<td>` entry contains information about the first three columns (i.e., number, name and type), while the rest of the `<td>` entries contain the stat value of the corresponding column.\n",
    "<br><br>\n",
    "![title](images/pokedex_first_rows.png)"
   ]
  },
  {
   "cell_type": "code",
   "execution_count": 68,
   "metadata": {},
   "outputs": [
    {
     "name": "stdout",
     "output_type": "stream",
     "text": [
      "0001\n",
      "0002\n",
      "0003\n",
      "0003\n",
      "0004\n",
      "0005\n",
      "0006\n",
      "0006\n",
      "0006\n",
      "0007\n",
      "0008\n",
      "0009\n",
      "0009\n",
      "0010\n",
      "0011\n",
      "0012\n",
      "0013\n",
      "0014\n",
      "0015\n",
      "0015\n"
     ]
    }
   ],
   "source": [
    "# Find the numbers of the pokemon\n",
    "numbers = []\n",
    "\n",
    "for row in rows:\n",
    "    number = row.find_all(\"td\")[0].text\n",
    "    numbers.append(number)\n",
    "\n",
    "for number in numbers[:20]:\n",
    "    print(number)"
   ]
  },
  {
   "cell_type": "code",
   "execution_count": 62,
   "metadata": {},
   "outputs": [
    {
     "name": "stdout",
     "output_type": "stream",
     "text": [
      "Bulbasaur\n",
      "Ivysaur\n",
      "Venusaur\n",
      "Venusaur Mega Venusaur\n",
      "Charmander\n",
      "Charmeleon\n",
      "Charizard\n",
      "Charizard Mega Charizard X\n",
      "Charizard Mega Charizard Y\n",
      "Squirtle\n",
      "Wartortle\n",
      "Blastoise\n",
      "Blastoise Mega Blastoise\n",
      "Caterpie\n",
      "Metapod\n",
      "Butterfree\n",
      "Weedle\n",
      "Kakuna\n",
      "Beedrill\n",
      "Beedrill Mega Beedrill\n"
     ]
    }
   ],
   "source": [
    "# Find the names of the pokemon\n",
    "names = []\n",
    "\n",
    "for row in rows:\n",
    "    name = row.find_all(\"td\")[1].text\n",
    "    names.append(name)\n",
    "\n",
    "for name in names[:20]:\n",
    "    print(name)"
   ]
  },
  {
   "cell_type": "code",
   "execution_count": 58,
   "metadata": {},
   "outputs": [
    {
     "name": "stdout",
     "output_type": "stream",
     "text": [
      "Length of 'names': 1194\n"
     ]
    }
   ],
   "source": [
    "print(f\"Length of 'names': {len(names)}\")"
   ]
  },
  {
   "attachments": {},
   "cell_type": "markdown",
   "metadata": {},
   "source": [
    "We have extracted 1194 names, but the original table only seems contains 1010 pokemon. What is going on?\n",
    "<br><br>\n",
    "Looking closely at the original table, one can see that a Pokémon and its mega evolution still has the same pokédex number. E.g. both **Venusaur** and **Mega Venusaur** have the number 3. The number of rows in the original table is likely 1194, but the unique number of Pokédex numbers is 1010. "
   ]
  },
  {
   "cell_type": "code",
   "execution_count": 67,
   "metadata": {},
   "outputs": [
    {
     "name": "stdout",
     "output_type": "stream",
     "text": [
      "Bulbasaur 0001\n",
      "Ivysaur 0002\n",
      "Venusaur 0003\n",
      "Venusaur Mega Venusaur 0003\n",
      "Charmander 0004\n",
      "Charmeleon 0005\n",
      "Charizard 0006\n",
      "Charizard Mega Charizard X 0006\n",
      "Charizard Mega Charizard Y 0006\n",
      "Squirtle 0007\n"
     ]
    }
   ],
   "source": [
    "for x in range(10):\n",
    "    print(names[x], numbers[x])"
   ]
  }
 ],
 "metadata": {
  "kernelspec": {
   "display_name": ".venv",
   "language": "python",
   "name": "python3"
  },
  "language_info": {
   "codemirror_mode": {
    "name": "ipython",
    "version": 3
   },
   "file_extension": ".py",
   "mimetype": "text/x-python",
   "name": "python",
   "nbconvert_exporter": "python",
   "pygments_lexer": "ipython3",
   "version": "3.10.6"
  },
  "orig_nbformat": 4
 },
 "nbformat": 4,
 "nbformat_minor": 2
}

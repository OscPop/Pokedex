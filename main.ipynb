{
 "cells": [
  {
   "cell_type": "code",
   "execution_count": 5,
   "metadata": {},
   "outputs": [],
   "source": [
    "from bs4 import BeautifulSoup as BS\n",
    "import requests\n",
    "import pandas as pd\n",
    "import numpy as np\n",
    "import matplotlib.pyplot as plt\n",
    "import seaborn as sns"
   ]
  },
  {
   "cell_type": "code",
   "execution_count": 60,
   "metadata": {},
   "outputs": [
    {
     "name": "stdout",
     "output_type": "stream",
     "text": [
      "<!DOCTYPE html>\n",
      "<html lang=\"en\">\n",
      " <head>\n",
      "  <meta charset=\"utf-8\"/>\n",
      "  <title>\n",
      "   Pokémon Pokédex: list of Pokémon with stats | Pokémon Database\n",
      "  </title>\n",
      "  <link href=\"https://img.pokemondb.net\" rel=\"preconnect\"/>\n",
      "  <link href=\"https://s.pokemondb.net\" rel=\"preconnect\"/>\n",
      "  <style>\n",
      "   @font-face{font-family:\"Fira Sans\";font-style:normal;font-weight:400;font-display:swap;src:url(\"/static/fonts/fira-sans-v10-latin-400.woff2\") format(\"woff2\");unicode-range:U+0000-00FF,U+0131,U+0152-0153,U+02BB-02BC,U+02C6,U+02DA,U+02DC,U+2000-206F,U+2074,U+20AC,U+2122,U+2191,U+2193,U+2212,U+2215,U+FEFF,U+FFFD}@font-face{font-family:\"Fira Sans\";font-style:italic;font-weight:400;font-display:swap;src:url(\"/static/fonts/fira-sans-v10-latin-400i.woff2\") format(\"woff2\");unicode-range:U+0000-00FF,U+0131,U+0152-0153,U+02BB-02BC,U+02C6,U+02DA,U+02DC,U+2000-206F,U+2074,U+20AC,U+2122,U+2191,U+2193,U+2212,U+2215,U+FEFF,U+FFFD}@font-face{font-family:\"Fira Sans\";font-style:normal;font-weight:700;font-display:swap;src:u\n"
     ]
    }
   ],
   "source": [
    "URL = \"https://pokemondb.net/pokedex/all\"\n",
    "\n",
    "# Get soup of the page from the URL\n",
    "\n",
    "def get_soup(url):\n",
    "    page = requests.get(url)\n",
    "    return BS(page.content, 'html.parser')\n",
    "\n",
    "soup = get_soup(URL)\n",
    "print(soup.prettify()[0:1000])"
   ]
  },
  {
   "attachments": {},
   "cell_type": "markdown",
   "metadata": {},
   "source": [
    "# Idea\n",
    "The main idea is to copy the contents of the table by scraping the information. The table and information is nicely formatted and it shouldn't be difficult to extract the information."
   ]
  },
  {
   "cell_type": "markdown",
   "metadata": {},
   "source": [
    "## Table head"
   ]
  },
  {
   "cell_type": "code",
   "execution_count": 19,
   "metadata": {},
   "outputs": [
    {
     "name": "stdout",
     "output_type": "stream",
     "text": [
      "#\n",
      "Name\n",
      "Total\n",
      "HP\n",
      "Attack\n",
      "Defense\n",
      "Sp. Atk\n",
      "Sp. Def\n",
      "Speed\n",
      "['#', 'Name', 'Total', 'HP', 'Attack', 'Defense', 'Sp. Atk', 'Sp. Def', 'Speed']\n"
     ]
    }
   ],
   "source": [
    "# Find the header of the table in the soup\n",
    "table_head = soup.find(\"thead\").find_all(\"th\", class_=\"sorting\")\n",
    "stats = []\n",
    "for col in table_head:\n",
    "    print(col.text)\n",
    "    stat = col.text\n",
    "    stats.append(stat)\n",
    "\n",
    "print(stats)"
   ]
  },
  {
   "attachments": {},
   "cell_type": "markdown",
   "metadata": {},
   "source": [
    "# Table rows\n",
    "Now we want to extract all the information for each pokemon (row) in the table."
   ]
  },
  {
   "cell_type": "code",
   "execution_count": 50,
   "metadata": {},
   "outputs": [
    {
     "name": "stdout",
     "output_type": "stream",
     "text": [
      "<tr>\n",
      "<td class=\"cell-num cell-fixed\" data-sort-value=\"1\"><span class=\"infocard-cell-img\"><img alt=\"Bulbasaur\" class=\"img-fixed icon-pkmn\" height=\"42\" loading=\"lazy\" src=\"https://img.pokemondb.net/sprites/sword-shield/icon/bulbasaur.png\" width=\"56\"/></span><span class=\"infocard-cell-data\">0001</span></td> <td class=\"cell-name\"><a class=\"ent-name\" href=\"/pokedex/bulbasaur\" title=\"View Pokedex for #0001 Bulbasaur\">Bulbasaur</a></td><td class=\"cell-icon\"><a class=\"type-icon type-grass\" href=\"/type/grass\">Grass</a><br/> <a class=\"type-icon type-poison\" href=\"/type/poison\">Poison</a></td>\n",
      "<td class=\"cell-num cell-total\">318</td>\n",
      "<td class=\"cell-num\">45</td>\n",
      "<td class=\"cell-num\">49</td>\n",
      "<td class=\"cell-num\">49</td>\n",
      "<td class=\"cell-num\">65</td>\n",
      "<td class=\"cell-num\">65</td>\n",
      "<td class=\"cell-num\">45</td>\n",
      "</tr>\n"
     ]
    }
   ],
   "source": [
    "\n",
    "table_body = soup.find(\"tbody\")\n",
    "rows = table_body.find_all(\"tr\")\n",
    "print(rows[0])\n"
   ]
  },
  {
   "cell_type": "code",
   "execution_count": 62,
   "metadata": {},
   "outputs": [
    {
     "name": "stdout",
     "output_type": "stream",
     "text": [
      "Bulbasaur\n",
      "Ivysaur\n",
      "Venusaur\n",
      "Venusaur Mega Venusaur\n",
      "Charmander\n",
      "Charmeleon\n",
      "Charizard\n",
      "Charizard Mega Charizard X\n",
      "Charizard Mega Charizard Y\n",
      "Squirtle\n",
      "Wartortle\n",
      "Blastoise\n",
      "Blastoise Mega Blastoise\n",
      "Caterpie\n",
      "Metapod\n",
      "Butterfree\n",
      "Weedle\n",
      "Kakuna\n",
      "Beedrill\n",
      "Beedrill Mega Beedrill\n"
     ]
    }
   ],
   "source": [
    "# Find the names of the pokemon\n",
    "names = []\n",
    "\n",
    "for row in rows:\n",
    "    name = row.find_all(\"td\")[1].text\n",
    "    names.append(name)\n",
    "\n",
    "for name in names[:20]:\n",
    "    print(name)"
   ]
  },
  {
   "cell_type": "code",
   "execution_count": 58,
   "metadata": {},
   "outputs": [
    {
     "name": "stdout",
     "output_type": "stream",
     "text": [
      "Length of 'names': 1194\n"
     ]
    }
   ],
   "source": [
    "print(f\"Length of 'names': {len(names)}\")"
   ]
  },
  {
   "attachments": {},
   "cell_type": "markdown",
   "metadata": {},
   "source": [
    "We have extracted 1194 names, but the original table only contains 1010 pokemon. We have a surplus of 184 pokemon..."
   ]
  },
  {
   "cell_type": "code",
   "execution_count": 55,
   "metadata": {},
   "outputs": [
    {
     "data": {
      "text/html": [
       "<div>\n",
       "<style scoped>\n",
       "    .dataframe tbody tr th:only-of-type {\n",
       "        vertical-align: middle;\n",
       "    }\n",
       "\n",
       "    .dataframe tbody tr th {\n",
       "        vertical-align: top;\n",
       "    }\n",
       "\n",
       "    .dataframe thead th {\n",
       "        text-align: right;\n",
       "    }\n",
       "</style>\n",
       "<table border=\"1\" class=\"dataframe\">\n",
       "  <thead>\n",
       "    <tr style=\"text-align: right;\">\n",
       "      <th></th>\n",
       "      <th>#</th>\n",
       "      <th>Name</th>\n",
       "      <th>Total</th>\n",
       "      <th>HP</th>\n",
       "      <th>Attack</th>\n",
       "      <th>Defense</th>\n",
       "      <th>Sp. Atk</th>\n",
       "      <th>Sp. Def</th>\n",
       "      <th>Speed</th>\n",
       "    </tr>\n",
       "  </thead>\n",
       "  <tbody>\n",
       "  </tbody>\n",
       "</table>\n",
       "</div>"
      ],
      "text/plain": [
       "Empty DataFrame\n",
       "Columns: [#, Name, Total, HP, Attack, Defense, Sp. Atk, Sp. Def, Speed]\n",
       "Index: []"
      ]
     },
     "execution_count": 55,
     "metadata": {},
     "output_type": "execute_result"
    }
   ],
   "source": [
    "df = pd.DataFrame(columns=stats)\n",
    "df.head()"
   ]
  }
 ],
 "metadata": {
  "kernelspec": {
   "display_name": ".venv",
   "language": "python",
   "name": "python3"
  },
  "language_info": {
   "codemirror_mode": {
    "name": "ipython",
    "version": 3
   },
   "file_extension": ".py",
   "mimetype": "text/x-python",
   "name": "python",
   "nbconvert_exporter": "python",
   "pygments_lexer": "ipython3",
   "version": "3.10.6"
  },
  "orig_nbformat": 4
 },
 "nbformat": 4,
 "nbformat_minor": 2
}

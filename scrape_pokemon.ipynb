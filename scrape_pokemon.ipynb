{
 "cells": [
  {
   "cell_type": "code",
   "execution_count": 5,
   "metadata": {},
   "outputs": [],
   "source": [
    "from bs4 import BeautifulSoup as BS\n",
    "import requests\n",
    "import pandas as pd\n",
    "import numpy as np\n",
    "import matplotlib.pyplot as plt\n",
    "import seaborn as sns"
   ]
  },
  {
   "cell_type": "code",
   "execution_count": 60,
   "metadata": {},
   "outputs": [
    {
     "name": "stdout",
     "output_type": "stream",
     "text": [
      "<!DOCTYPE html>\n",
      "<html lang=\"en\">\n",
      " <head>\n",
      "  <meta charset=\"utf-8\"/>\n",
      "  <title>\n",
      "   Pokémon Pokédex: list of Pokémon with stats | Pokémon Database\n",
      "  </title>\n",
      "  <link href=\"https://img.pokemondb.net\" rel=\"preconnect\"/>\n",
      "  <link href=\"https://s.pokemondb.net\" rel=\"preconnect\"/>\n",
      "  <style>\n",
      "   @font-face{font-family:\"Fira Sans\";font-style:normal;font-weight:400;font-display:swap;src:url(\"/static/fonts/fira-sans-v10-latin-400.woff2\") format(\"woff2\");unicode-range:U+0000-00FF,U+0131,U+0152-0153,U+02BB-02BC,U+02C6,U+02DA,U+02DC,U+2000-206F,U+2074,U+20AC,U+2122,U+2191,U+2193,U+2212,U+2215,U+FEFF,U+FFFD}@font-face{font-family:\"Fira Sans\";font-style:italic;font-weight:400;font-display:swap;src:url(\"/static/fonts/fira-sans-v10-latin-400i.woff2\") format(\"woff2\");unicode-range:U+0000-00FF,U+0131,U+0152-0153,U+02BB-02BC,U+02C6,U+02DA,U+02DC,U+2000-206F,U+2074,U+20AC,U+2122,U+2191,U+2193,U+2212,U+2215,U+FEFF,U+FFFD}@font-face{font-family:\"Fira Sans\";font-style:normal;font-weight:700;font-display:swap;src:u\n"
     ]
    }
   ],
   "source": [
    "URL = \"https://pokemondb.net/pokedex/all\"\n",
    "\n",
    "# Get soup of the page from the URL\n",
    "\n",
    "def get_soup(url):\n",
    "    page = requests.get(url)\n",
    "    return BS(page.content, 'html.parser')\n",
    "\n",
    "soup = get_soup(URL)\n",
    "print(soup.prettify()[0:1000])"
   ]
  },
  {
   "attachments": {},
   "cell_type": "markdown",
   "metadata": {},
   "source": [
    "# Idea\n",
    "The main idea is to copy the contents of the table by scraping the information. The table and information is nicely formatted and it shouldn't be difficult to extract the information."
   ]
  },
  {
   "cell_type": "markdown",
   "metadata": {},
   "source": [
    "## Table head"
   ]
  },
  {
   "cell_type": "code",
   "execution_count": 94,
   "metadata": {},
   "outputs": [
    {
     "data": {
      "text/plain": [
       "<thead>\n",
       "<tr>\n",
       "<th class=\"sorting\" data-sort=\"int\"><div class=\"sortwrap\">#</div></th> <th class=\"sorting\" data-sort=\"string\"><div class=\"sortwrap\">Name</div></th> <th><div class=\"sortwrap\">Type</div></th> <th class=\"sorting\" data-sort=\"int\"><div class=\"sortwrap\">Total</div></th> <th class=\"sorting\" data-sort=\"int\"><div class=\"sortwrap\">HP</div></th> <th class=\"sorting\" data-sort=\"int\"><div class=\"sortwrap\">Attack</div></th> <th class=\"sorting\" data-sort=\"int\"><div class=\"sortwrap\">Defense</div></th> <th class=\"sorting\" data-sort=\"int\"><div class=\"sortwrap\">Sp. Atk</div></th> <th class=\"sorting\" data-sort=\"int\"><div class=\"sortwrap\">Sp. Def</div></th> <th class=\"sorting\" data-sort=\"int\"><div class=\"sortwrap\">Speed</div></th> </tr>\n",
       "</thead>"
      ]
     },
     "execution_count": 94,
     "metadata": {},
     "output_type": "execute_result"
    }
   ],
   "source": [
    "table_head = soup.find('thead')\n",
    "table_head"
   ]
  },
  {
   "cell_type": "code",
   "execution_count": 95,
   "metadata": {},
   "outputs": [
    {
     "data": {
      "text/plain": [
       "[<th class=\"sorting\" data-sort=\"int\"><div class=\"sortwrap\">#</div></th>,\n",
       " <th class=\"sorting\" data-sort=\"string\"><div class=\"sortwrap\">Name</div></th>,\n",
       " <th><div class=\"sortwrap\">Type</div></th>,\n",
       " <th class=\"sorting\" data-sort=\"int\"><div class=\"sortwrap\">Total</div></th>,\n",
       " <th class=\"sorting\" data-sort=\"int\"><div class=\"sortwrap\">HP</div></th>,\n",
       " <th class=\"sorting\" data-sort=\"int\"><div class=\"sortwrap\">Attack</div></th>,\n",
       " <th class=\"sorting\" data-sort=\"int\"><div class=\"sortwrap\">Defense</div></th>,\n",
       " <th class=\"sorting\" data-sort=\"int\"><div class=\"sortwrap\">Sp. Atk</div></th>,\n",
       " <th class=\"sorting\" data-sort=\"int\"><div class=\"sortwrap\">Sp. Def</div></th>,\n",
       " <th class=\"sorting\" data-sort=\"int\"><div class=\"sortwrap\">Speed</div></th>]"
      ]
     },
     "execution_count": 95,
     "metadata": {},
     "output_type": "execute_result"
    }
   ],
   "source": [
    "table_head.find_all(\"th\")"
   ]
  },
  {
   "cell_type": "code",
   "execution_count": 96,
   "metadata": {},
   "outputs": [
    {
     "name": "stdout",
     "output_type": "stream",
     "text": [
      "#\n",
      "Name\n",
      "Type\n",
      "Total\n",
      "HP\n",
      "Attack\n",
      "Defense\n",
      "Sp. Atk\n",
      "Sp. Def\n",
      "Speed\n"
     ]
    }
   ],
   "source": [
    "for row in table_head.find_all(\"th\"):\n",
    "    print(row.text)"
   ]
  },
  {
   "cell_type": "code",
   "execution_count": 97,
   "metadata": {},
   "outputs": [
    {
     "data": {
      "text/plain": [
       "['#',\n",
       " 'Name',\n",
       " 'Type',\n",
       " 'Total',\n",
       " 'HP',\n",
       " 'Attack',\n",
       " 'Defense',\n",
       " 'Sp. Atk',\n",
       " 'Sp. Def',\n",
       " 'Speed']"
      ]
     },
     "execution_count": 97,
     "metadata": {},
     "output_type": "execute_result"
    }
   ],
   "source": [
    "columns = [row.text.replace('\\n', '') for row in table_head.find_all(\"th\")]\n",
    "columns"
   ]
  },
  {
   "attachments": {},
   "cell_type": "markdown",
   "metadata": {},
   "source": [
    "# Table rows\n",
    "Now we want to extract all the information for each pokemon (row) in the table."
   ]
  },
  {
   "cell_type": "code",
   "execution_count": 50,
   "metadata": {},
   "outputs": [
    {
     "name": "stdout",
     "output_type": "stream",
     "text": [
      "<tr>\n",
      "<td class=\"cell-num cell-fixed\" data-sort-value=\"1\"><span class=\"infocard-cell-img\"><img alt=\"Bulbasaur\" class=\"img-fixed icon-pkmn\" height=\"42\" loading=\"lazy\" src=\"https://img.pokemondb.net/sprites/sword-shield/icon/bulbasaur.png\" width=\"56\"/></span><span class=\"infocard-cell-data\">0001</span></td> <td class=\"cell-name\"><a class=\"ent-name\" href=\"/pokedex/bulbasaur\" title=\"View Pokedex for #0001 Bulbasaur\">Bulbasaur</a></td><td class=\"cell-icon\"><a class=\"type-icon type-grass\" href=\"/type/grass\">Grass</a><br/> <a class=\"type-icon type-poison\" href=\"/type/poison\">Poison</a></td>\n",
      "<td class=\"cell-num cell-total\">318</td>\n",
      "<td class=\"cell-num\">45</td>\n",
      "<td class=\"cell-num\">49</td>\n",
      "<td class=\"cell-num\">49</td>\n",
      "<td class=\"cell-num\">65</td>\n",
      "<td class=\"cell-num\">65</td>\n",
      "<td class=\"cell-num\">45</td>\n",
      "</tr>\n"
     ]
    }
   ],
   "source": [
    "\n",
    "table_body = soup.find(\"tbody\")\n",
    "rows = table_body.find_all(\"tr\")\n",
    "print(rows[0])\n"
   ]
  },
  {
   "attachments": {},
   "cell_type": "markdown",
   "metadata": {},
   "source": [
    "## What does the above output tell us? \n",
    "By looking at the screenshot below, it seems like the first `<td>` entry contains information about the first three columns (i.e., number, name and type), while the rest of the `<td>` entries contain the stat value of the corresponding column.\n",
    "<br><br>\n",
    "![title](images/pokedex_first_rows.png)"
   ]
  },
  {
   "cell_type": "code",
   "execution_count": 68,
   "metadata": {},
   "outputs": [
    {
     "name": "stdout",
     "output_type": "stream",
     "text": [
      "0001\n",
      "0002\n",
      "0003\n",
      "0003\n",
      "0004\n",
      "0005\n",
      "0006\n",
      "0006\n",
      "0006\n",
      "0007\n",
      "0008\n",
      "0009\n",
      "0009\n",
      "0010\n",
      "0011\n",
      "0012\n",
      "0013\n",
      "0014\n",
      "0015\n",
      "0015\n"
     ]
    }
   ],
   "source": [
    "# Find the numbers of the pokemon\n",
    "numbers = []\n",
    "\n",
    "for row in rows:\n",
    "    number = row.find_all(\"td\")[0].text\n",
    "    numbers.append(number)\n",
    "\n",
    "for number in numbers[:20]:\n",
    "    print(number)"
   ]
  },
  {
   "attachments": {},
   "cell_type": "markdown",
   "metadata": {},
   "source": [
    "But there is more in the first `<td>`, so we need to find a way to extract the information from it."
   ]
  },
  {
   "cell_type": "code",
   "execution_count": 86,
   "metadata": {},
   "outputs": [
    {
     "data": {
      "text/plain": [
       "[<td class=\"cell-num cell-fixed\" data-sort-value=\"1\"><span class=\"infocard-cell-img\"><img alt=\"Bulbasaur\" class=\"img-fixed icon-pkmn\" height=\"42\" loading=\"lazy\" src=\"https://img.pokemondb.net/sprites/sword-shield/icon/bulbasaur.png\" width=\"56\"/></span><span class=\"infocard-cell-data\">0001</span></td>,\n",
       " <td class=\"cell-name\"><a class=\"ent-name\" href=\"/pokedex/bulbasaur\" title=\"View Pokedex for #0001 Bulbasaur\">Bulbasaur</a></td>,\n",
       " <td class=\"cell-icon\"><a class=\"type-icon type-grass\" href=\"/type/grass\">Grass</a><br/> <a class=\"type-icon type-poison\" href=\"/type/poison\">Poison</a></td>,\n",
       " <td class=\"cell-num cell-total\">318</td>,\n",
       " <td class=\"cell-num\">45</td>,\n",
       " <td class=\"cell-num\">49</td>,\n",
       " <td class=\"cell-num\">49</td>,\n",
       " <td class=\"cell-num\">65</td>,\n",
       " <td class=\"cell-num\">65</td>,\n",
       " <td class=\"cell-num\">45</td>]"
      ]
     },
     "execution_count": 86,
     "metadata": {},
     "output_type": "execute_result"
    }
   ],
   "source": [
    "# Look at the first row\n",
    "\n",
    "rows[0].find_all(\"td\")"
   ]
  },
  {
   "cell_type": "code",
   "execution_count": 89,
   "metadata": {},
   "outputs": [
    {
     "name": "stdout",
     "output_type": "stream",
     "text": [
      "td_index: 0, td.text: '0001'\n",
      "td_index: 1, td.text: 'Bulbasaur'\n",
      "td_index: 2, td.text: 'Grass Poison'\n",
      "td_index: 3, td.text: '318'\n",
      "td_index: 4, td.text: '45'\n",
      "td_index: 5, td.text: '49'\n",
      "td_index: 6, td.text: '49'\n",
      "td_index: 7, td.text: '65'\n",
      "td_index: 8, td.text: '65'\n",
      "td_index: 9, td.text: '45'\n"
     ]
    }
   ],
   "source": [
    "# Loop through the columns of the first row and get the information\n",
    "for td_idx, td in enumerate(rows[0].find_all(\"td\")):\n",
    "    print(f\"td_index: {td_idx}, td.text: '{td.text}'\")"
   ]
  },
  {
   "attachments": {},
   "cell_type": "markdown",
   "metadata": {},
   "source": [
    "We should be able to extract the image links by getting into the `<img ... >` bracket and extracting the `src` part of it."
   ]
  },
  {
   "cell_type": "code",
   "execution_count": 76,
   "metadata": {},
   "outputs": [
    {
     "name": "stdout",
     "output_type": "stream",
     "text": [
      "https://img.pokemondb.net/sprites/sword-shield/icon/bulbasaur.png\n",
      "https://img.pokemondb.net/sprites/sword-shield/icon/ivysaur.png\n",
      "https://img.pokemondb.net/sprites/sword-shield/icon/venusaur.png\n",
      "https://img.pokemondb.net/sprites/sword-shield/icon/venusaur-mega.png\n",
      "https://img.pokemondb.net/sprites/sword-shield/icon/charmander.png\n",
      "https://img.pokemondb.net/sprites/sword-shield/icon/charmeleon.png\n",
      "https://img.pokemondb.net/sprites/sword-shield/icon/charizard.png\n",
      "https://img.pokemondb.net/sprites/sword-shield/icon/charizard-mega-x.png\n",
      "https://img.pokemondb.net/sprites/sword-shield/icon/charizard-mega-y.png\n",
      "https://img.pokemondb.net/sprites/sword-shield/icon/squirtle.png\n"
     ]
    }
   ],
   "source": [
    "# Extract links for images\n",
    "for row in rows[:10]:\n",
    "    print(row.find_all(\"td\")[0].find(\"img\")[\"src\"])"
   ]
  },
  {
   "cell_type": "code",
   "execution_count": 62,
   "metadata": {},
   "outputs": [
    {
     "name": "stdout",
     "output_type": "stream",
     "text": [
      "Bulbasaur\n",
      "Ivysaur\n",
      "Venusaur\n",
      "Venusaur Mega Venusaur\n",
      "Charmander\n",
      "Charmeleon\n",
      "Charizard\n",
      "Charizard Mega Charizard X\n",
      "Charizard Mega Charizard Y\n",
      "Squirtle\n",
      "Wartortle\n",
      "Blastoise\n",
      "Blastoise Mega Blastoise\n",
      "Caterpie\n",
      "Metapod\n",
      "Butterfree\n",
      "Weedle\n",
      "Kakuna\n",
      "Beedrill\n",
      "Beedrill Mega Beedrill\n"
     ]
    }
   ],
   "source": [
    "# Find the names of the pokemon\n",
    "names = []\n",
    "\n",
    "for row in rows:\n",
    "    name = row.find_all(\"td\")[1].text\n",
    "    names.append(name)\n",
    "\n",
    "for name in names[:20]:\n",
    "    print(name)"
   ]
  },
  {
   "cell_type": "code",
   "execution_count": 58,
   "metadata": {},
   "outputs": [
    {
     "name": "stdout",
     "output_type": "stream",
     "text": [
      "Length of 'names': 1194\n"
     ]
    }
   ],
   "source": [
    "print(f\"Length of 'names': {len(names)}\")"
   ]
  },
  {
   "attachments": {},
   "cell_type": "markdown",
   "metadata": {},
   "source": [
    "We have extracted 1194 names, but the original table only seems contains 1010 pokemon. What is going on?\n",
    "<br><br>\n",
    "Looking closely at the original table, one can see that a Pokémon and its mega evolution still has the same pokédex number. E.g. both **Venusaur** and **Mega Venusaur** have the number 3. The number of rows in the original table is likely 1194, but the unique number of Pokédex numbers is 1010. "
   ]
  },
  {
   "cell_type": "code",
   "execution_count": 67,
   "metadata": {},
   "outputs": [
    {
     "name": "stdout",
     "output_type": "stream",
     "text": [
      "Bulbasaur 0001\n",
      "Ivysaur 0002\n",
      "Venusaur 0003\n",
      "Venusaur Mega Venusaur 0003\n",
      "Charmander 0004\n",
      "Charmeleon 0005\n",
      "Charizard 0006\n",
      "Charizard Mega Charizard X 0006\n",
      "Charizard Mega Charizard Y 0006\n",
      "Squirtle 0007\n"
     ]
    }
   ],
   "source": [
    "for x in range(10):\n",
    "    print(names[x], numbers[x])"
   ]
  },
  {
   "attachments": {},
   "cell_type": "markdown",
   "metadata": {},
   "source": [
    "# Putting it all together"
   ]
  },
  {
   "cell_type": "code",
   "execution_count": 156,
   "metadata": {},
   "outputs": [
    {
     "data": {
      "text/html": [
       "<div>\n",
       "<style scoped>\n",
       "    .dataframe tbody tr th:only-of-type {\n",
       "        vertical-align: middle;\n",
       "    }\n",
       "\n",
       "    .dataframe tbody tr th {\n",
       "        vertical-align: top;\n",
       "    }\n",
       "\n",
       "    .dataframe thead th {\n",
       "        text-align: right;\n",
       "    }\n",
       "</style>\n",
       "<table border=\"1\" class=\"dataframe\">\n",
       "  <thead>\n",
       "    <tr style=\"text-align: right;\">\n",
       "      <th></th>\n",
       "      <th>#</th>\n",
       "      <th>Name</th>\n",
       "      <th>Type</th>\n",
       "      <th>Total</th>\n",
       "      <th>HP</th>\n",
       "      <th>Attack</th>\n",
       "      <th>Defense</th>\n",
       "      <th>Sp. Atk</th>\n",
       "      <th>Sp. Def</th>\n",
       "      <th>Speed</th>\n",
       "    </tr>\n",
       "  </thead>\n",
       "  <tbody>\n",
       "    <tr>\n",
       "      <th>0</th>\n",
       "      <td>0001</td>\n",
       "      <td>Bulbasaur</td>\n",
       "      <td>Grass Poison</td>\n",
       "      <td>318</td>\n",
       "      <td>45</td>\n",
       "      <td>49</td>\n",
       "      <td>49</td>\n",
       "      <td>65</td>\n",
       "      <td>65</td>\n",
       "      <td>45</td>\n",
       "    </tr>\n",
       "    <tr>\n",
       "      <th>1</th>\n",
       "      <td>0002</td>\n",
       "      <td>Ivysaur</td>\n",
       "      <td>Grass Poison</td>\n",
       "      <td>405</td>\n",
       "      <td>60</td>\n",
       "      <td>62</td>\n",
       "      <td>63</td>\n",
       "      <td>80</td>\n",
       "      <td>80</td>\n",
       "      <td>60</td>\n",
       "    </tr>\n",
       "    <tr>\n",
       "      <th>2</th>\n",
       "      <td>0003</td>\n",
       "      <td>Venusaur</td>\n",
       "      <td>Grass Poison</td>\n",
       "      <td>525</td>\n",
       "      <td>80</td>\n",
       "      <td>82</td>\n",
       "      <td>83</td>\n",
       "      <td>100</td>\n",
       "      <td>100</td>\n",
       "      <td>80</td>\n",
       "    </tr>\n",
       "    <tr>\n",
       "      <th>3</th>\n",
       "      <td>0003</td>\n",
       "      <td>Venusaur Mega Venusaur</td>\n",
       "      <td>Grass Poison</td>\n",
       "      <td>625</td>\n",
       "      <td>80</td>\n",
       "      <td>100</td>\n",
       "      <td>123</td>\n",
       "      <td>122</td>\n",
       "      <td>120</td>\n",
       "      <td>80</td>\n",
       "    </tr>\n",
       "    <tr>\n",
       "      <th>4</th>\n",
       "      <td>0004</td>\n",
       "      <td>Charmander</td>\n",
       "      <td>Fire</td>\n",
       "      <td>309</td>\n",
       "      <td>39</td>\n",
       "      <td>52</td>\n",
       "      <td>43</td>\n",
       "      <td>60</td>\n",
       "      <td>50</td>\n",
       "      <td>65</td>\n",
       "    </tr>\n",
       "  </tbody>\n",
       "</table>\n",
       "</div>"
      ],
      "text/plain": [
       "      #                    Name          Type Total  HP Attack Defense   \n",
       "0  0001               Bulbasaur  Grass Poison   318  45     49      49  \\\n",
       "1  0002                 Ivysaur  Grass Poison   405  60     62      63   \n",
       "2  0003                Venusaur  Grass Poison   525  80     82      83   \n",
       "3  0003  Venusaur Mega Venusaur  Grass Poison   625  80    100     123   \n",
       "4  0004              Charmander         Fire    309  39     52      43   \n",
       "\n",
       "  Sp. Atk Sp. Def Speed  \n",
       "0      65      65    45  \n",
       "1      80      80    60  \n",
       "2     100     100    80  \n",
       "3     122     120    80  \n",
       "4      60      50    65  "
      ]
     },
     "execution_count": 156,
     "metadata": {},
     "output_type": "execute_result"
    }
   ],
   "source": [
    "table_body = soup.find(\"tbody\")\n",
    "rows = table_body.find_all(\"tr\")\n",
    "\n",
    "df = pd.DataFrame(columns=columns)\n",
    "table = []\n",
    "\n",
    "for row in rows:\n",
    "    row_tds = row.find_all(\"td\")\n",
    "    \n",
    "    row_columns = []\n",
    "    for col in row_tds:\n",
    "        row_columns.append(col.text)\n",
    "\n",
    "    table.append(row_columns)\n",
    "\n",
    "df = pd.DataFrame(table, columns=columns)\n",
    "df.head()"
   ]
  },
  {
   "attachments": {},
   "cell_type": "markdown",
   "metadata": {},
   "source": [
    "Let's rename the columns to make them more convenient to use"
   ]
  },
  {
   "cell_type": "code",
   "execution_count": 157,
   "metadata": {},
   "outputs": [
    {
     "data": {
      "text/html": [
       "<div>\n",
       "<style scoped>\n",
       "    .dataframe tbody tr th:only-of-type {\n",
       "        vertical-align: middle;\n",
       "    }\n",
       "\n",
       "    .dataframe tbody tr th {\n",
       "        vertical-align: top;\n",
       "    }\n",
       "\n",
       "    .dataframe thead th {\n",
       "        text-align: right;\n",
       "    }\n",
       "</style>\n",
       "<table border=\"1\" class=\"dataframe\">\n",
       "  <thead>\n",
       "    <tr style=\"text-align: right;\">\n",
       "      <th></th>\n",
       "      <th>number</th>\n",
       "      <th>name</th>\n",
       "      <th>type</th>\n",
       "      <th>total</th>\n",
       "      <th>hp</th>\n",
       "      <th>attack</th>\n",
       "      <th>defense</th>\n",
       "      <th>sp_atk</th>\n",
       "      <th>sp_def</th>\n",
       "      <th>speed</th>\n",
       "    </tr>\n",
       "  </thead>\n",
       "  <tbody>\n",
       "    <tr>\n",
       "      <th>0</th>\n",
       "      <td>0001</td>\n",
       "      <td>Bulbasaur</td>\n",
       "      <td>Grass Poison</td>\n",
       "      <td>318</td>\n",
       "      <td>45</td>\n",
       "      <td>49</td>\n",
       "      <td>49</td>\n",
       "      <td>65</td>\n",
       "      <td>65</td>\n",
       "      <td>45</td>\n",
       "    </tr>\n",
       "    <tr>\n",
       "      <th>1</th>\n",
       "      <td>0002</td>\n",
       "      <td>Ivysaur</td>\n",
       "      <td>Grass Poison</td>\n",
       "      <td>405</td>\n",
       "      <td>60</td>\n",
       "      <td>62</td>\n",
       "      <td>63</td>\n",
       "      <td>80</td>\n",
       "      <td>80</td>\n",
       "      <td>60</td>\n",
       "    </tr>\n",
       "    <tr>\n",
       "      <th>2</th>\n",
       "      <td>0003</td>\n",
       "      <td>Venusaur</td>\n",
       "      <td>Grass Poison</td>\n",
       "      <td>525</td>\n",
       "      <td>80</td>\n",
       "      <td>82</td>\n",
       "      <td>83</td>\n",
       "      <td>100</td>\n",
       "      <td>100</td>\n",
       "      <td>80</td>\n",
       "    </tr>\n",
       "    <tr>\n",
       "      <th>3</th>\n",
       "      <td>0003</td>\n",
       "      <td>Venusaur Mega Venusaur</td>\n",
       "      <td>Grass Poison</td>\n",
       "      <td>625</td>\n",
       "      <td>80</td>\n",
       "      <td>100</td>\n",
       "      <td>123</td>\n",
       "      <td>122</td>\n",
       "      <td>120</td>\n",
       "      <td>80</td>\n",
       "    </tr>\n",
       "    <tr>\n",
       "      <th>4</th>\n",
       "      <td>0004</td>\n",
       "      <td>Charmander</td>\n",
       "      <td>Fire</td>\n",
       "      <td>309</td>\n",
       "      <td>39</td>\n",
       "      <td>52</td>\n",
       "      <td>43</td>\n",
       "      <td>60</td>\n",
       "      <td>50</td>\n",
       "      <td>65</td>\n",
       "    </tr>\n",
       "  </tbody>\n",
       "</table>\n",
       "</div>"
      ],
      "text/plain": [
       "  number                    name          type total  hp attack defense   \n",
       "0   0001               Bulbasaur  Grass Poison   318  45     49      49  \\\n",
       "1   0002                 Ivysaur  Grass Poison   405  60     62      63   \n",
       "2   0003                Venusaur  Grass Poison   525  80     82      83   \n",
       "3   0003  Venusaur Mega Venusaur  Grass Poison   625  80    100     123   \n",
       "4   0004              Charmander         Fire    309  39     52      43   \n",
       "\n",
       "  sp_atk sp_def speed  \n",
       "0     65     65    45  \n",
       "1     80     80    60  \n",
       "2    100    100    80  \n",
       "3    122    120    80  \n",
       "4     60     50    65  "
      ]
     },
     "execution_count": 157,
     "metadata": {},
     "output_type": "execute_result"
    }
   ],
   "source": [
    "df.rename(columns={\"#\": \"number\", \n",
    "                   \"Name\":\"name\", \n",
    "                   \"Type\":\"type\", \n",
    "                   \"Total\":\"total\", \n",
    "                   \"HP\":\"hp\", \n",
    "                   \"Attack\":\"attack\", \n",
    "                   \"Defense\":\"defense\",\n",
    "                   \"Sp. Atk\":\"sp_atk\",\n",
    "                   \"Sp. Def\":\"sp_def\",\n",
    "                   \"Speed\":\"speed\"}, inplace=True)\n",
    "df.head()"
   ]
  },
  {
   "cell_type": "code",
   "execution_count": 158,
   "metadata": {},
   "outputs": [
    {
     "data": {
      "text/plain": [
       "number     object\n",
       "name       object\n",
       "type       object\n",
       "total      object\n",
       "hp         object\n",
       "attack     object\n",
       "defense    object\n",
       "sp_atk     object\n",
       "sp_def     object\n",
       "speed      object\n",
       "dtype: object"
      ]
     },
     "execution_count": 158,
     "metadata": {},
     "output_type": "execute_result"
    }
   ],
   "source": [
    "df.dtypes"
   ]
  },
  {
   "attachments": {},
   "cell_type": "markdown",
   "metadata": {},
   "source": [
    "Let's convert the datatypes of the number and stats columns to be integers instead of `objects`."
   ]
  },
  {
   "cell_type": "code",
   "execution_count": 159,
   "metadata": {},
   "outputs": [
    {
     "name": "stdout",
     "output_type": "stream",
     "text": [
      "number      int64\n",
      "name       object\n",
      "type       object\n",
      "total       int64\n",
      "hp          int64\n",
      "attack      int64\n",
      "defense     int64\n",
      "sp_atk      int64\n",
      "sp_def      int64\n",
      "speed       int64\n",
      "dtype: object\n"
     ]
    },
    {
     "data": {
      "text/html": [
       "<div>\n",
       "<style scoped>\n",
       "    .dataframe tbody tr th:only-of-type {\n",
       "        vertical-align: middle;\n",
       "    }\n",
       "\n",
       "    .dataframe tbody tr th {\n",
       "        vertical-align: top;\n",
       "    }\n",
       "\n",
       "    .dataframe thead th {\n",
       "        text-align: right;\n",
       "    }\n",
       "</style>\n",
       "<table border=\"1\" class=\"dataframe\">\n",
       "  <thead>\n",
       "    <tr style=\"text-align: right;\">\n",
       "      <th></th>\n",
       "      <th>number</th>\n",
       "      <th>name</th>\n",
       "      <th>type</th>\n",
       "      <th>total</th>\n",
       "      <th>hp</th>\n",
       "      <th>attack</th>\n",
       "      <th>defense</th>\n",
       "      <th>sp_atk</th>\n",
       "      <th>sp_def</th>\n",
       "      <th>speed</th>\n",
       "    </tr>\n",
       "  </thead>\n",
       "  <tbody>\n",
       "    <tr>\n",
       "      <th>0</th>\n",
       "      <td>1</td>\n",
       "      <td>Bulbasaur</td>\n",
       "      <td>Grass Poison</td>\n",
       "      <td>318</td>\n",
       "      <td>45</td>\n",
       "      <td>49</td>\n",
       "      <td>49</td>\n",
       "      <td>65</td>\n",
       "      <td>65</td>\n",
       "      <td>45</td>\n",
       "    </tr>\n",
       "    <tr>\n",
       "      <th>1</th>\n",
       "      <td>2</td>\n",
       "      <td>Ivysaur</td>\n",
       "      <td>Grass Poison</td>\n",
       "      <td>405</td>\n",
       "      <td>60</td>\n",
       "      <td>62</td>\n",
       "      <td>63</td>\n",
       "      <td>80</td>\n",
       "      <td>80</td>\n",
       "      <td>60</td>\n",
       "    </tr>\n",
       "    <tr>\n",
       "      <th>2</th>\n",
       "      <td>3</td>\n",
       "      <td>Venusaur</td>\n",
       "      <td>Grass Poison</td>\n",
       "      <td>525</td>\n",
       "      <td>80</td>\n",
       "      <td>82</td>\n",
       "      <td>83</td>\n",
       "      <td>100</td>\n",
       "      <td>100</td>\n",
       "      <td>80</td>\n",
       "    </tr>\n",
       "    <tr>\n",
       "      <th>3</th>\n",
       "      <td>3</td>\n",
       "      <td>Venusaur Mega Venusaur</td>\n",
       "      <td>Grass Poison</td>\n",
       "      <td>625</td>\n",
       "      <td>80</td>\n",
       "      <td>100</td>\n",
       "      <td>123</td>\n",
       "      <td>122</td>\n",
       "      <td>120</td>\n",
       "      <td>80</td>\n",
       "    </tr>\n",
       "    <tr>\n",
       "      <th>4</th>\n",
       "      <td>4</td>\n",
       "      <td>Charmander</td>\n",
       "      <td>Fire</td>\n",
       "      <td>309</td>\n",
       "      <td>39</td>\n",
       "      <td>52</td>\n",
       "      <td>43</td>\n",
       "      <td>60</td>\n",
       "      <td>50</td>\n",
       "      <td>65</td>\n",
       "    </tr>\n",
       "  </tbody>\n",
       "</table>\n",
       "</div>"
      ],
      "text/plain": [
       "   number                    name          type  total  hp  attack  defense   \n",
       "0       1               Bulbasaur  Grass Poison    318  45      49       49  \\\n",
       "1       2                 Ivysaur  Grass Poison    405  60      62       63   \n",
       "2       3                Venusaur  Grass Poison    525  80      82       83   \n",
       "3       3  Venusaur Mega Venusaur  Grass Poison    625  80     100      123   \n",
       "4       4              Charmander         Fire     309  39      52       43   \n",
       "\n",
       "   sp_atk  sp_def  speed  \n",
       "0      65      65     45  \n",
       "1      80      80     60  \n",
       "2     100     100     80  \n",
       "3     122     120     80  \n",
       "4      60      50     65  "
      ]
     },
     "execution_count": 159,
     "metadata": {},
     "output_type": "execute_result"
    }
   ],
   "source": [
    "df[['number', 'total', 'hp', 'attack', 'defense', 'sp_atk', 'sp_def', 'speed']] = df[['number', 'total', 'hp', 'attack', 'defense', 'sp_atk', 'sp_def', 'speed']].apply(pd.to_numeric)\n",
    "print(df.dtypes)\n",
    "\n",
    "df.head()"
   ]
  },
  {
   "attachments": {},
   "cell_type": "markdown",
   "metadata": {},
   "source": [
    "It would nice if we could make the `type` field be two separate columns; `type 1` and `type 2`. Not all Pokémon have two types though, so some will have `None` in the type 2 column. "
   ]
  },
  {
   "cell_type": "code",
   "execution_count": 160,
   "metadata": {},
   "outputs": [
    {
     "data": {
      "text/plain": [
       "0"
      ]
     },
     "execution_count": 160,
     "metadata": {},
     "output_type": "execute_result"
    }
   ],
   "source": [
    "# Are there any Pokémon without a type?\n",
    "df.type.isnull().sum()"
   ]
  },
  {
   "cell_type": "code",
   "execution_count": 161,
   "metadata": {},
   "outputs": [
    {
     "data": {
      "text/html": [
       "<div>\n",
       "<style scoped>\n",
       "    .dataframe tbody tr th:only-of-type {\n",
       "        vertical-align: middle;\n",
       "    }\n",
       "\n",
       "    .dataframe tbody tr th {\n",
       "        vertical-align: top;\n",
       "    }\n",
       "\n",
       "    .dataframe thead th {\n",
       "        text-align: right;\n",
       "    }\n",
       "</style>\n",
       "<table border=\"1\" class=\"dataframe\">\n",
       "  <thead>\n",
       "    <tr style=\"text-align: right;\">\n",
       "      <th></th>\n",
       "      <th>number</th>\n",
       "      <th>name</th>\n",
       "      <th>type</th>\n",
       "      <th>total</th>\n",
       "      <th>hp</th>\n",
       "      <th>attack</th>\n",
       "      <th>defense</th>\n",
       "      <th>sp_atk</th>\n",
       "      <th>sp_def</th>\n",
       "      <th>speed</th>\n",
       "      <th>type_1</th>\n",
       "      <th>type_2</th>\n",
       "    </tr>\n",
       "  </thead>\n",
       "  <tbody>\n",
       "    <tr>\n",
       "      <th>0</th>\n",
       "      <td>1</td>\n",
       "      <td>Bulbasaur</td>\n",
       "      <td>Grass Poison</td>\n",
       "      <td>318</td>\n",
       "      <td>45</td>\n",
       "      <td>49</td>\n",
       "      <td>49</td>\n",
       "      <td>65</td>\n",
       "      <td>65</td>\n",
       "      <td>45</td>\n",
       "      <td>Grass</td>\n",
       "      <td>Poison</td>\n",
       "    </tr>\n",
       "    <tr>\n",
       "      <th>1</th>\n",
       "      <td>2</td>\n",
       "      <td>Ivysaur</td>\n",
       "      <td>Grass Poison</td>\n",
       "      <td>405</td>\n",
       "      <td>60</td>\n",
       "      <td>62</td>\n",
       "      <td>63</td>\n",
       "      <td>80</td>\n",
       "      <td>80</td>\n",
       "      <td>60</td>\n",
       "      <td>Grass</td>\n",
       "      <td>Poison</td>\n",
       "    </tr>\n",
       "    <tr>\n",
       "      <th>2</th>\n",
       "      <td>3</td>\n",
       "      <td>Venusaur</td>\n",
       "      <td>Grass Poison</td>\n",
       "      <td>525</td>\n",
       "      <td>80</td>\n",
       "      <td>82</td>\n",
       "      <td>83</td>\n",
       "      <td>100</td>\n",
       "      <td>100</td>\n",
       "      <td>80</td>\n",
       "      <td>Grass</td>\n",
       "      <td>Poison</td>\n",
       "    </tr>\n",
       "    <tr>\n",
       "      <th>3</th>\n",
       "      <td>3</td>\n",
       "      <td>Venusaur Mega Venusaur</td>\n",
       "      <td>Grass Poison</td>\n",
       "      <td>625</td>\n",
       "      <td>80</td>\n",
       "      <td>100</td>\n",
       "      <td>123</td>\n",
       "      <td>122</td>\n",
       "      <td>120</td>\n",
       "      <td>80</td>\n",
       "      <td>Grass</td>\n",
       "      <td>Poison</td>\n",
       "    </tr>\n",
       "    <tr>\n",
       "      <th>4</th>\n",
       "      <td>4</td>\n",
       "      <td>Charmander</td>\n",
       "      <td>Fire</td>\n",
       "      <td>309</td>\n",
       "      <td>39</td>\n",
       "      <td>52</td>\n",
       "      <td>43</td>\n",
       "      <td>60</td>\n",
       "      <td>50</td>\n",
       "      <td>65</td>\n",
       "      <td>Fire</td>\n",
       "      <td></td>\n",
       "    </tr>\n",
       "  </tbody>\n",
       "</table>\n",
       "</div>"
      ],
      "text/plain": [
       "   number                    name          type  total  hp  attack  defense   \n",
       "0       1               Bulbasaur  Grass Poison    318  45      49       49  \\\n",
       "1       2                 Ivysaur  Grass Poison    405  60      62       63   \n",
       "2       3                Venusaur  Grass Poison    525  80      82       83   \n",
       "3       3  Venusaur Mega Venusaur  Grass Poison    625  80     100      123   \n",
       "4       4              Charmander         Fire     309  39      52       43   \n",
       "\n",
       "   sp_atk  sp_def  speed type_1  type_2  \n",
       "0      65      65     45  Grass  Poison  \n",
       "1      80      80     60  Grass  Poison  \n",
       "2     100     100     80  Grass  Poison  \n",
       "3     122     120     80  Grass  Poison  \n",
       "4      60      50     65   Fire          "
      ]
     },
     "execution_count": 161,
     "metadata": {},
     "output_type": "execute_result"
    }
   ],
   "source": [
    "df[[\"type_1\", \"type_2\"]] = df.type.str.split(\" \", expand=True)\n",
    "df.head()"
   ]
  },
  {
   "attachments": {},
   "cell_type": "markdown",
   "metadata": {},
   "source": [
    "Let's remove the `type` column and move the `type 1` and `type 2` columns to be after the name."
   ]
  },
  {
   "cell_type": "code",
   "execution_count": 162,
   "metadata": {},
   "outputs": [
    {
     "data": {
      "text/html": [
       "<div>\n",
       "<style scoped>\n",
       "    .dataframe tbody tr th:only-of-type {\n",
       "        vertical-align: middle;\n",
       "    }\n",
       "\n",
       "    .dataframe tbody tr th {\n",
       "        vertical-align: top;\n",
       "    }\n",
       "\n",
       "    .dataframe thead th {\n",
       "        text-align: right;\n",
       "    }\n",
       "</style>\n",
       "<table border=\"1\" class=\"dataframe\">\n",
       "  <thead>\n",
       "    <tr style=\"text-align: right;\">\n",
       "      <th></th>\n",
       "      <th>number</th>\n",
       "      <th>name</th>\n",
       "      <th>type_1</th>\n",
       "      <th>type_2</th>\n",
       "      <th>total</th>\n",
       "      <th>hp</th>\n",
       "      <th>attack</th>\n",
       "      <th>defense</th>\n",
       "      <th>sp_atk</th>\n",
       "      <th>sp_def</th>\n",
       "      <th>speed</th>\n",
       "    </tr>\n",
       "  </thead>\n",
       "  <tbody>\n",
       "    <tr>\n",
       "      <th>0</th>\n",
       "      <td>1</td>\n",
       "      <td>Bulbasaur</td>\n",
       "      <td>Grass</td>\n",
       "      <td>Poison</td>\n",
       "      <td>318</td>\n",
       "      <td>45</td>\n",
       "      <td>49</td>\n",
       "      <td>49</td>\n",
       "      <td>65</td>\n",
       "      <td>65</td>\n",
       "      <td>45</td>\n",
       "    </tr>\n",
       "    <tr>\n",
       "      <th>1</th>\n",
       "      <td>2</td>\n",
       "      <td>Ivysaur</td>\n",
       "      <td>Grass</td>\n",
       "      <td>Poison</td>\n",
       "      <td>405</td>\n",
       "      <td>60</td>\n",
       "      <td>62</td>\n",
       "      <td>63</td>\n",
       "      <td>80</td>\n",
       "      <td>80</td>\n",
       "      <td>60</td>\n",
       "    </tr>\n",
       "    <tr>\n",
       "      <th>2</th>\n",
       "      <td>3</td>\n",
       "      <td>Venusaur</td>\n",
       "      <td>Grass</td>\n",
       "      <td>Poison</td>\n",
       "      <td>525</td>\n",
       "      <td>80</td>\n",
       "      <td>82</td>\n",
       "      <td>83</td>\n",
       "      <td>100</td>\n",
       "      <td>100</td>\n",
       "      <td>80</td>\n",
       "    </tr>\n",
       "    <tr>\n",
       "      <th>3</th>\n",
       "      <td>3</td>\n",
       "      <td>Venusaur Mega Venusaur</td>\n",
       "      <td>Grass</td>\n",
       "      <td>Poison</td>\n",
       "      <td>625</td>\n",
       "      <td>80</td>\n",
       "      <td>100</td>\n",
       "      <td>123</td>\n",
       "      <td>122</td>\n",
       "      <td>120</td>\n",
       "      <td>80</td>\n",
       "    </tr>\n",
       "    <tr>\n",
       "      <th>4</th>\n",
       "      <td>4</td>\n",
       "      <td>Charmander</td>\n",
       "      <td>Fire</td>\n",
       "      <td></td>\n",
       "      <td>309</td>\n",
       "      <td>39</td>\n",
       "      <td>52</td>\n",
       "      <td>43</td>\n",
       "      <td>60</td>\n",
       "      <td>50</td>\n",
       "      <td>65</td>\n",
       "    </tr>\n",
       "  </tbody>\n",
       "</table>\n",
       "</div>"
      ],
      "text/plain": [
       "   number                    name type_1  type_2  total  hp  attack  defense   \n",
       "0       1               Bulbasaur  Grass  Poison    318  45      49       49  \\\n",
       "1       2                 Ivysaur  Grass  Poison    405  60      62       63   \n",
       "2       3                Venusaur  Grass  Poison    525  80      82       83   \n",
       "3       3  Venusaur Mega Venusaur  Grass  Poison    625  80     100      123   \n",
       "4       4              Charmander   Fire            309  39      52       43   \n",
       "\n",
       "   sp_atk  sp_def  speed  \n",
       "0      65      65     45  \n",
       "1      80      80     60  \n",
       "2     100     100     80  \n",
       "3     122     120     80  \n",
       "4      60      50     65  "
      ]
     },
     "execution_count": 162,
     "metadata": {},
     "output_type": "execute_result"
    }
   ],
   "source": [
    "df = df[[\"number\", \"name\", \"type_1\", \"type_2\", \"total\", \"hp\", \"attack\", \"defense\", \"sp_atk\", \"sp_def\", \"speed\"]]\n",
    "df.head()"
   ]
  },
  {
   "cell_type": "code",
   "execution_count": 163,
   "metadata": {},
   "outputs": [
    {
     "name": "stdout",
     "output_type": "stream",
     "text": [
      "<class 'pandas.core.frame.DataFrame'>\n",
      "RangeIndex: 1194 entries, 0 to 1193\n",
      "Data columns (total 11 columns):\n",
      " #   Column   Non-Null Count  Dtype \n",
      "---  ------   --------------  ----- \n",
      " 0   number   1194 non-null   int64 \n",
      " 1   name     1194 non-null   object\n",
      " 2   type_1   1194 non-null   object\n",
      " 3   type_2   1194 non-null   object\n",
      " 4   total    1194 non-null   int64 \n",
      " 5   hp       1194 non-null   int64 \n",
      " 6   attack   1194 non-null   int64 \n",
      " 7   defense  1194 non-null   int64 \n",
      " 8   sp_atk   1194 non-null   int64 \n",
      " 9   sp_def   1194 non-null   int64 \n",
      " 10  speed    1194 non-null   int64 \n",
      "dtypes: int64(8), object(3)\n",
      "memory usage: 102.7+ KB\n"
     ]
    }
   ],
   "source": [
    "df.info()"
   ]
  },
  {
   "cell_type": "code",
   "execution_count": 164,
   "metadata": {},
   "outputs": [
    {
     "data": {
      "text/html": [
       "<div>\n",
       "<style scoped>\n",
       "    .dataframe tbody tr th:only-of-type {\n",
       "        vertical-align: middle;\n",
       "    }\n",
       "\n",
       "    .dataframe tbody tr th {\n",
       "        vertical-align: top;\n",
       "    }\n",
       "\n",
       "    .dataframe thead th {\n",
       "        text-align: right;\n",
       "    }\n",
       "</style>\n",
       "<table border=\"1\" class=\"dataframe\">\n",
       "  <thead>\n",
       "    <tr style=\"text-align: right;\">\n",
       "      <th></th>\n",
       "      <th>number</th>\n",
       "      <th>total</th>\n",
       "      <th>hp</th>\n",
       "      <th>attack</th>\n",
       "      <th>defense</th>\n",
       "      <th>sp_atk</th>\n",
       "      <th>sp_def</th>\n",
       "      <th>speed</th>\n",
       "    </tr>\n",
       "  </thead>\n",
       "  <tbody>\n",
       "    <tr>\n",
       "      <th>count</th>\n",
       "      <td>1194.000000</td>\n",
       "      <td>1194.000000</td>\n",
       "      <td>1194.000000</td>\n",
       "      <td>1194.000000</td>\n",
       "      <td>1194.000000</td>\n",
       "      <td>1194.000000</td>\n",
       "      <td>1194.000000</td>\n",
       "      <td>1194.000000</td>\n",
       "    </tr>\n",
       "    <tr>\n",
       "      <th>mean</th>\n",
       "      <td>492.746231</td>\n",
       "      <td>441.206868</td>\n",
       "      <td>70.887772</td>\n",
       "      <td>80.948911</td>\n",
       "      <td>74.587102</td>\n",
       "      <td>72.876884</td>\n",
       "      <td>72.128141</td>\n",
       "      <td>69.778057</td>\n",
       "    </tr>\n",
       "    <tr>\n",
       "      <th>std</th>\n",
       "      <td>293.719541</td>\n",
       "      <td>121.015326</td>\n",
       "      <td>26.859651</td>\n",
       "      <td>32.122250</td>\n",
       "      <td>30.678626</td>\n",
       "      <td>32.696051</td>\n",
       "      <td>27.628468</td>\n",
       "      <td>30.195593</td>\n",
       "    </tr>\n",
       "    <tr>\n",
       "      <th>min</th>\n",
       "      <td>1.000000</td>\n",
       "      <td>175.000000</td>\n",
       "      <td>1.000000</td>\n",
       "      <td>5.000000</td>\n",
       "      <td>5.000000</td>\n",
       "      <td>10.000000</td>\n",
       "      <td>20.000000</td>\n",
       "      <td>5.000000</td>\n",
       "    </tr>\n",
       "    <tr>\n",
       "      <th>25%</th>\n",
       "      <td>235.250000</td>\n",
       "      <td>330.000000</td>\n",
       "      <td>52.000000</td>\n",
       "      <td>56.000000</td>\n",
       "      <td>51.250000</td>\n",
       "      <td>50.000000</td>\n",
       "      <td>50.000000</td>\n",
       "      <td>45.000000</td>\n",
       "    </tr>\n",
       "    <tr>\n",
       "      <th>50%</th>\n",
       "      <td>486.500000</td>\n",
       "      <td>460.500000</td>\n",
       "      <td>70.000000</td>\n",
       "      <td>80.000000</td>\n",
       "      <td>70.000000</td>\n",
       "      <td>65.000000</td>\n",
       "      <td>70.000000</td>\n",
       "      <td>67.500000</td>\n",
       "    </tr>\n",
       "    <tr>\n",
       "      <th>75%</th>\n",
       "      <td>741.750000</td>\n",
       "      <td>520.000000</td>\n",
       "      <td>85.000000</td>\n",
       "      <td>100.000000</td>\n",
       "      <td>90.000000</td>\n",
       "      <td>95.000000</td>\n",
       "      <td>90.000000</td>\n",
       "      <td>90.750000</td>\n",
       "    </tr>\n",
       "    <tr>\n",
       "      <th>max</th>\n",
       "      <td>1010.000000</td>\n",
       "      <td>1125.000000</td>\n",
       "      <td>255.000000</td>\n",
       "      <td>190.000000</td>\n",
       "      <td>250.000000</td>\n",
       "      <td>194.000000</td>\n",
       "      <td>250.000000</td>\n",
       "      <td>200.000000</td>\n",
       "    </tr>\n",
       "  </tbody>\n",
       "</table>\n",
       "</div>"
      ],
      "text/plain": [
       "            number        total           hp       attack      defense   \n",
       "count  1194.000000  1194.000000  1194.000000  1194.000000  1194.000000  \\\n",
       "mean    492.746231   441.206868    70.887772    80.948911    74.587102   \n",
       "std     293.719541   121.015326    26.859651    32.122250    30.678626   \n",
       "min       1.000000   175.000000     1.000000     5.000000     5.000000   \n",
       "25%     235.250000   330.000000    52.000000    56.000000    51.250000   \n",
       "50%     486.500000   460.500000    70.000000    80.000000    70.000000   \n",
       "75%     741.750000   520.000000    85.000000   100.000000    90.000000   \n",
       "max    1010.000000  1125.000000   255.000000   190.000000   250.000000   \n",
       "\n",
       "            sp_atk       sp_def        speed  \n",
       "count  1194.000000  1194.000000  1194.000000  \n",
       "mean     72.876884    72.128141    69.778057  \n",
       "std      32.696051    27.628468    30.195593  \n",
       "min      10.000000    20.000000     5.000000  \n",
       "25%      50.000000    50.000000    45.000000  \n",
       "50%      65.000000    70.000000    67.500000  \n",
       "75%      95.000000    90.000000    90.750000  \n",
       "max     194.000000   250.000000   200.000000  "
      ]
     },
     "execution_count": 164,
     "metadata": {},
     "output_type": "execute_result"
    }
   ],
   "source": [
    "df.describe()"
   ]
  },
  {
   "cell_type": "code",
   "execution_count": 166,
   "metadata": {},
   "outputs": [
    {
     "data": {
      "text/plain": [
       "array(['Poison', nan, 'Flying', 'Dragon', 'Normal', 'Psychic', 'Steel',\n",
       "       'Ground', 'Fairy', 'Grass', 'Rock', 'Fighting', 'Electric', 'Ice',\n",
       "       'Dark', 'Ghost', 'Fire', 'Water', 'Bug'], dtype=object)"
      ]
     },
     "execution_count": 166,
     "metadata": {},
     "output_type": "execute_result"
    }
   ],
   "source": [
    "df.type_2.unique()"
   ]
  },
  {
   "attachments": {},
   "cell_type": "markdown",
   "metadata": {},
   "source": [
    "Let's change the empty strings for type_2 into `nan` values instead to make it easier to understand."
   ]
  },
  {
   "cell_type": "code",
   "execution_count": 168,
   "metadata": {},
   "outputs": [
    {
     "name": "stdout",
     "output_type": "stream",
     "text": [
      "<class 'pandas.core.frame.DataFrame'>\n",
      "RangeIndex: 1194 entries, 0 to 1193\n",
      "Data columns (total 11 columns):\n",
      " #   Column   Non-Null Count  Dtype \n",
      "---  ------   --------------  ----- \n",
      " 0   number   1194 non-null   int64 \n",
      " 1   name     1194 non-null   object\n",
      " 2   type_1   1194 non-null   object\n",
      " 3   type_2   652 non-null    object\n",
      " 4   total    1194 non-null   int64 \n",
      " 5   hp       1194 non-null   int64 \n",
      " 6   attack   1194 non-null   int64 \n",
      " 7   defense  1194 non-null   int64 \n",
      " 8   sp_atk   1194 non-null   int64 \n",
      " 9   sp_def   1194 non-null   int64 \n",
      " 10  speed    1194 non-null   int64 \n",
      "dtypes: int64(8), object(3)\n",
      "memory usage: 102.7+ KB\n"
     ]
    }
   ],
   "source": [
    "df.type_2 = df.type_2.replace(\"\", np.nan)\n",
    "\n",
    "df.info()"
   ]
  },
  {
   "attachments": {},
   "cell_type": "markdown",
   "metadata": {},
   "source": [
    "Now that we've extracted all the data that we want, we can save it as a .csv file to make it convenient to work with."
   ]
  },
  {
   "cell_type": "code",
   "execution_count": 169,
   "metadata": {},
   "outputs": [],
   "source": [
    "df.to_csv(\"pokemon.csv\", index=False)"
   ]
  }
 ],
 "metadata": {
  "kernelspec": {
   "display_name": ".venv",
   "language": "python",
   "name": "python3"
  },
  "language_info": {
   "codemirror_mode": {
    "name": "ipython",
    "version": 3
   },
   "file_extension": ".py",
   "mimetype": "text/x-python",
   "name": "python",
   "nbconvert_exporter": "python",
   "pygments_lexer": "ipython3",
   "version": "3.10.6"
  },
  "orig_nbformat": 4
 },
 "nbformat": 4,
 "nbformat_minor": 2
}
